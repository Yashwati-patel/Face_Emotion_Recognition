{
  "cells": [
    {
      "cell_type": "markdown",
      "metadata": {
        "id": "view-in-github",
        "colab_type": "text"
      },
      "source": [
        "<a href=\"https://colab.research.google.com/github/Yashwati-patel/Face_Emotion_Recognition/blob/main/Face_Emotion_Recognition.ipynb\" target=\"_parent\"><img src=\"https://colab.research.google.com/assets/colab-badge.svg\" alt=\"Open In Colab\"/></a>"
      ]
    },
    {
      "cell_type": "code",
      "execution_count": 1,
      "metadata": {
        "id": "LF7GXyulVzeI"
      },
      "outputs": [],
      "source": [
        "# importing libraries\n",
        "import os\n",
        "import cv2\n",
        "import numpy as np\n",
        "import pandas as pd\n",
        "\n",
        "import seaborn as sns\n",
        "import matplotlib.pyplot as plt\n",
        "from pathlib import Path\n",
        "from sklearn.model_selection import train_test_split\n",
        "\n",
        "##For Models ##\n",
        "import keras\n",
        "import tensorflow as tf\n",
        "from tensorflow.keras import optimizers\n",
        "from keras.utils import np_utils\n",
        "from keras.regularizers import l2\n",
        "from tensorflow.keras.datasets import mnist\n",
        "from tensorflow.keras.models import Sequential\n",
        "from keras.preprocessing.image import ImageDataGenerator, array_to_img, img_to_array, load_img\n",
        "from tensorflow.keras.layers import Flatten, Dense, Conv2D, MaxPooling2D, AveragePooling2D, GlobalAveragePooling2D, SeparableConv2D\n",
        "from tensorflow.keras.layers import Dropout, BatchNormalization, Activation\n",
        "from tensorflow.keras.callbacks import Callback, ModelCheckpoint, EarlyStopping, ReduceLROnPlateau\n",
        "from tensorflow.keras.preprocessing.image import ImageDataGenerator\n",
        "from keras import models\n",
        "from keras.utils.vis_utils import plot_model\n",
        "from keras.layers import Input, GlobalAveragePooling2D,concatenate\n",
        "from keras.models import Model\n",
        "from tensorflow.keras import layers\n",
        "from keras.applications.inception_v3 import InceptionV3\n",
        "from keras.models import load_model\n",
        "\n",
        "from sklearn.metrics import accuracy_score\n",
        "from sklearn.metrics import plot_confusion_matrix\n",
        "from sklearn.metrics import classification_report\n",
        "from sklearn.metrics import roc_curve, roc_auc_score"
      ]
    },
    {
      "cell_type": "code",
      "execution_count": 2,
      "metadata": {
        "colab": {
          "base_uri": "https://localhost:8080/"
        },
        "id": "96zqZAJhFaXU",
        "outputId": "b2c97a93-5e33-43c9-ac44-5168f928dcc4"
      },
      "outputs": [
        {
          "output_type": "stream",
          "name": "stdout",
          "text": [
            "Drive already mounted at /content/drive; to attempt to forcibly remount, call drive.mount(\"/content/drive\", force_remount=True).\n"
          ]
        }
      ],
      "source": [
        "# mounting drive\n",
        "from google.colab import drive\n",
        "drive.mount('/content/drive')"
      ]
    },
    {
      "cell_type": "code",
      "execution_count": 3,
      "metadata": {
        "colab": {
          "base_uri": "https://localhost:8080/"
        },
        "id": "ZvHiUDmga6p-",
        "outputId": "57ec4d86-a678-4cf1-c7da-425c76152aca"
      },
      "outputs": [
        {
          "output_type": "stream",
          "name": "stdout",
          "text": [
            "--2022-04-21 19:04:04--  https://www.kaggle.com/msambare/fer2013\n",
            "Resolving www.kaggle.com (www.kaggle.com)... 35.244.233.98\n",
            "Connecting to www.kaggle.com (www.kaggle.com)|35.244.233.98|:443... connected.\n",
            "HTTP request sent, awaiting response... 200 OK\n",
            "Length: unspecified [text/html]\n",
            "Saving to: ‘fer2013’\n",
            "\n",
            "fer2013                 [ <=>                ]  14.26K  --.-KB/s    in 0s      \n",
            "\n",
            "2022-04-21 19:04:04 (70.3 MB/s) - ‘fer2013’ saved [14599]\n",
            "\n"
          ]
        }
      ],
      "source": [
        "# Getting the Data-Set from kaggle\n",
        "!wget https://www.kaggle.com/msambare/fer2013"
      ]
    },
    {
      "cell_type": "code",
      "source": [
        "# Unzipping the dataset\n",
        "!unzip  -q \"/content/drive/MyDrive/CAPSTONE PROJECT-1/archive.zip\""
      ],
      "metadata": {
        "id": "Vy4hXs5CgXem"
      },
      "execution_count": 4,
      "outputs": []
    },
    {
      "cell_type": "code",
      "source": [
        "#creating path from dataset\n",
        "train_path=Path(\"/content/train\")\n",
        "dataset =[str(list(train_path.glob(\"*\"))[i]).split('/')[-1] for i in range(len(list(train_path.glob(\"*\"))))]\n",
        "dataset"
      ],
      "metadata": {
        "colab": {
          "base_uri": "https://localhost:8080/"
        },
        "id": "TXXYfeX3hYT5",
        "outputId": "9f5dc128-c4eb-413c-9eda-affb6669f07f"
      },
      "execution_count": 5,
      "outputs": [
        {
          "output_type": "execute_result",
          "data": {
            "text/plain": [
              "['surprise', 'disgust', 'neutral', 'sad', 'happy', 'fear', 'angry']"
            ]
          },
          "metadata": {},
          "execution_count": 5
        }
      ]
    },
    {
      "cell_type": "code",
      "source": [
        "dataset=['surprise', 'disgust', 'neutral', 'sad', 'happy', 'fear', 'angry']"
      ],
      "metadata": {
        "id": "JKY_l8GSiIOs"
      },
      "execution_count": 6,
      "outputs": []
    },
    {
      "cell_type": "code",
      "source": [
        "# Reading  image from dataset\n",
        "img_happy=cv2.imread('/content/train/happy/Training_11149790.jpg')"
      ],
      "metadata": {
        "id": "d2gdzIoYie_k"
      },
      "execution_count": 10,
      "outputs": []
    },
    {
      "cell_type": "code",
      "source": [
        "# find dimension of the image\n",
        "img_happy.shape"
      ],
      "metadata": {
        "colab": {
          "base_uri": "https://localhost:8080/"
        },
        "id": "AF40MDqxjBFJ",
        "outputId": "782e99c3-ab9e-4a3f-daf3-6950b43f9069"
      },
      "execution_count": 11,
      "outputs": [
        {
          "output_type": "execute_result",
          "data": {
            "text/plain": [
              "(48, 48, 3)"
            ]
          },
          "metadata": {},
          "execution_count": 11
        }
      ]
    },
    {
      "cell_type": "code",
      "source": [
        "# displaying the image\n",
        "plt.imshow(img_happy)"
      ],
      "metadata": {
        "colab": {
          "base_uri": "https://localhost:8080/",
          "height": 284
        },
        "id": "RptxlRoyjOGh",
        "outputId": "eaaf700b-9d7e-41cc-ad9b-04550fe16dd3"
      },
      "execution_count": 12,
      "outputs": [
        {
          "output_type": "execute_result",
          "data": {
            "text/plain": [
              "<matplotlib.image.AxesImage at 0x7f26eaeef150>"
            ]
          },
          "metadata": {},
          "execution_count": 12
        },
        {
          "output_type": "display_data",
          "data": {
            "text/plain": [
              "<Figure size 432x288 with 1 Axes>"
            ],
            "image/png": "[encoded data removed]"
          },
          "metadata": {
            "needs_background": "light"
          }
        }
      ]
    },
    {
      "cell_type": "code",
      "source": [
        "# resizing the image \n",
        "img_size=224\n",
        "new_array=cv2.resize(img_happy,(img_size,img_size))\n",
        "plt.imshow(cv2.cvtColor(new_array,cv2.COLOR_BGR2RGB))\n",
        "plt.show()"
      ],
      "metadata": {
        "colab": {
          "base_uri": "https://localhost:8080/",
          "height": 269
        },
        "id": "mM4uBaLqjqPD",
        "outputId": "570bb2ec-2f62-47d9-874c-3c0f4b1168b9"
      },
      "execution_count": 13,
      "outputs": [
        {
          "output_type": "display_data",
          "data": {
            "text/plain": [
              "<Figure size 432x288 with 1 Axes>"
            ],
            "image/png": "[encoded data removed]"
          },
          "metadata": {
            "needs_background": "light"
          }
        }
      ]
    },
    {
      "cell_type": "code",
      "source": [
        "# convert the path to string type\n",
        "path_list=list(map(lambda x: str(x), list(train_path.glob(\"*/*\"))))"
      ],
      "metadata": {
        "id": "M1Y4kWgukifO"
      },
      "execution_count": 15,
      "outputs": []
    },
    {
      "cell_type": "code",
      "source": [
        "# loading the training data\n",
        "training_data=[]\n",
        "for path in path_list:\n",
        "  img_array=cv2.imread(path)\n",
        "  new_array=cv2.resize(img_array,(img_size,img_size))\n",
        "  Class_label=dataset.index(path.split('/')[-2])\n",
        "  training_data.append([new_array,Class_label])"
      ],
      "metadata": {
        "id": "Ej1RzY2FlUbf"
      },
      "execution_count": 16,
      "outputs": []
    },
    {
      "cell_type": "code",
      "source": [
        "# data suffling\n",
        "import random\n",
        "random.shuffle(training_data)\n",
        "training_data=training_data[:2500]"
      ],
      "metadata": {
        "id": "ONln5BAxluN9"
      },
      "execution_count": 17,
      "outputs": []
    }
  ],
  "metadata": {
    "colab": {
      "name": "Face_Emotion_Recognition",
      "provenance": [],
      "mount_file_id": "1V7hY80Bzvh-Da3k8zttXvm0tWVm8Ak_y",
      "authorship_tag": "ABX9TyPs2yTDcybVayuM8CnX/OSC",
      "include_colab_link": true
    },
    "kernelspec": {
      "display_name": "Python 3",
      "name": "python3"
    },
    "language_info": {
      "name": "python"
    }
  },
  "nbformat": 4,
  "nbformat_minor": 0
}